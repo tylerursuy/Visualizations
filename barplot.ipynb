{
 "cells": [
  {
   "cell_type": "code",
   "execution_count": 1,
   "metadata": {
    "ExecuteTime": {
     "end_time": "2019-05-02T06:42:59.083159Z",
     "start_time": "2019-05-02T06:42:58.116446Z"
    }
   },
   "outputs": [
    {
     "data": {
      "text/html": [
       "<script type=\"text/javascript\">window.PlotlyConfig = {MathJaxConfig: 'local'};</script><script type=\"text/javascript\">if (window.MathJax) {MathJax.Hub.Config({SVG: {font: \"STIX-Web\"}});}</script><script>requirejs.config({paths: { 'plotly': ['https://cdn.plot.ly/plotly-latest.min']},});if(!window._Plotly) {require(['plotly'],function(plotly) {window._Plotly=plotly;});}</script>"
      ],
      "text/vnd.plotly.v1+html": [
       "<script type=\"text/javascript\">window.PlotlyConfig = {MathJaxConfig: 'local'};</script><script type=\"text/javascript\">if (window.MathJax) {MathJax.Hub.Config({SVG: {font: \"STIX-Web\"}});}</script><script>requirejs.config({paths: { 'plotly': ['https://cdn.plot.ly/plotly-latest.min']},});if(!window._Plotly) {require(['plotly'],function(plotly) {window._Plotly=plotly;});}</script>"
      ]
     },
     "metadata": {},
     "output_type": "display_data"
    },
    {
     "data": {
      "text/html": [
       "<script type=\"text/javascript\">window.PlotlyConfig = {MathJaxConfig: 'local'};</script><script type=\"text/javascript\">if (window.MathJax) {MathJax.Hub.Config({SVG: {font: \"STIX-Web\"}});}</script><script>requirejs.config({paths: { 'plotly': ['https://cdn.plot.ly/plotly-latest.min']},});if(!window._Plotly) {require(['plotly'],function(plotly) {window._Plotly=plotly;});}</script>"
      ],
      "text/vnd.plotly.v1+html": [
       "<script type=\"text/javascript\">window.PlotlyConfig = {MathJaxConfig: 'local'};</script><script type=\"text/javascript\">if (window.MathJax) {MathJax.Hub.Config({SVG: {font: \"STIX-Web\"}});}</script><script>requirejs.config({paths: { 'plotly': ['https://cdn.plot.ly/plotly-latest.min']},});if(!window._Plotly) {require(['plotly'],function(plotly) {window._Plotly=plotly;});}</script>"
      ]
     },
     "metadata": {},
     "output_type": "display_data"
    }
   ],
   "source": [
    "import pandas as pd\n",
    "import numpy as np\n",
    "import plotly.plotly as py\n",
    "import plotly.graph_objs as go\n",
    "from plotly.offline import iplot, init_notebook_mode\n",
    "from plotly import tools\n",
    "import cufflinks\n",
    "import plotly\n",
    "from IPython.core.interactiveshell import InteractiveShell\n",
    "InteractiveShell.ast_node_interactivity = 'all'\n",
    "cufflinks.go_offline(connected=True)\n",
    "init_notebook_mode(connected=True)"
   ]
  },
  {
   "cell_type": "code",
   "execution_count": 2,
   "metadata": {
    "ExecuteTime": {
     "end_time": "2019-05-02T06:42:59.123663Z",
     "start_time": "2019-05-02T06:42:59.085512Z"
    }
   },
   "outputs": [],
   "source": [
    "league_19 = pd.read_csv(\"data/season-1819_csv.csv\")\n",
    "league_18 = pd.read_csv(\"data/season-1718_csv.csv\")\n",
    "league_17 = pd.read_csv(\"data/season-1617_csv.csv\")\n",
    "league_16 = pd.read_csv(\"data/season-1516_csv.csv\")\n",
    "league_15 = pd.read_csv(\"data/season-1415_csv.csv\")\n",
    "league_14 = pd.read_csv(\"data/season-1314_csv.csv\")\n",
    "league_13 = pd.read_csv(\"data/season-1213_csv.csv\")\n",
    "league_12 = pd.read_csv(\"data/season-1112_csv.csv\")\n",
    "league_11 = pd.read_csv(\"data/season-1011_csv.csv\")\n",
    "league_10 = pd.read_csv(\"data/season-0910_csv.csv\")"
   ]
  },
  {
   "cell_type": "code",
   "execution_count": 3,
   "metadata": {
    "ExecuteTime": {
     "end_time": "2019-05-02T06:42:59.128081Z",
     "start_time": "2019-05-02T06:42:59.125214Z"
    }
   },
   "outputs": [],
   "source": [
    "leagues = [league_10, league_11, league_12, league_13, league_14, league_15, league_16, \n",
    "           league_17, league_18, league_19]"
   ]
  },
  {
   "cell_type": "code",
   "execution_count": 4,
   "metadata": {
    "ExecuteTime": {
     "end_time": "2019-05-02T06:42:59.141520Z",
     "start_time": "2019-05-02T06:42:59.130895Z"
    }
   },
   "outputs": [],
   "source": [
    "for lge in leagues:\n",
    "    lge.loc[:, \"Date\"] = pd.to_datetime(lge.Date)"
   ]
  },
  {
   "cell_type": "code",
   "execution_count": 5,
   "metadata": {
    "ExecuteTime": {
     "end_time": "2019-05-02T06:42:59.164790Z",
     "start_time": "2019-05-02T06:42:59.143620Z"
    }
   },
   "outputs": [
    {
     "data": {
      "text/html": [
       "<div>\n",
       "<style scoped>\n",
       "    .dataframe tbody tr th:only-of-type {\n",
       "        vertical-align: middle;\n",
       "    }\n",
       "\n",
       "    .dataframe tbody tr th {\n",
       "        vertical-align: top;\n",
       "    }\n",
       "\n",
       "    .dataframe thead th {\n",
       "        text-align: right;\n",
       "    }\n",
       "</style>\n",
       "<table border=\"1\" class=\"dataframe\">\n",
       "  <thead>\n",
       "    <tr style=\"text-align: right;\">\n",
       "      <th></th>\n",
       "      <th>Date</th>\n",
       "      <th>HomeTeam</th>\n",
       "      <th>AwayTeam</th>\n",
       "      <th>FTHG</th>\n",
       "      <th>FTAG</th>\n",
       "      <th>FTR</th>\n",
       "      <th>HTHG</th>\n",
       "      <th>HTAG</th>\n",
       "      <th>HTR</th>\n",
       "      <th>Referee</th>\n",
       "      <th>...</th>\n",
       "      <th>HST</th>\n",
       "      <th>AST</th>\n",
       "      <th>HF</th>\n",
       "      <th>AF</th>\n",
       "      <th>HC</th>\n",
       "      <th>AC</th>\n",
       "      <th>HY</th>\n",
       "      <th>AY</th>\n",
       "      <th>HR</th>\n",
       "      <th>AR</th>\n",
       "    </tr>\n",
       "  </thead>\n",
       "  <tbody>\n",
       "    <tr>\n",
       "      <th>0</th>\n",
       "      <td>2018-08-10</td>\n",
       "      <td>Man United</td>\n",
       "      <td>Leicester</td>\n",
       "      <td>2</td>\n",
       "      <td>1</td>\n",
       "      <td>H</td>\n",
       "      <td>1</td>\n",
       "      <td>0</td>\n",
       "      <td>H</td>\n",
       "      <td>A Marriner</td>\n",
       "      <td>...</td>\n",
       "      <td>6</td>\n",
       "      <td>4</td>\n",
       "      <td>11</td>\n",
       "      <td>8</td>\n",
       "      <td>2</td>\n",
       "      <td>5</td>\n",
       "      <td>2</td>\n",
       "      <td>1</td>\n",
       "      <td>0</td>\n",
       "      <td>0</td>\n",
       "    </tr>\n",
       "    <tr>\n",
       "      <th>1</th>\n",
       "      <td>2018-08-11</td>\n",
       "      <td>Bournemouth</td>\n",
       "      <td>Cardiff</td>\n",
       "      <td>2</td>\n",
       "      <td>0</td>\n",
       "      <td>H</td>\n",
       "      <td>1</td>\n",
       "      <td>0</td>\n",
       "      <td>H</td>\n",
       "      <td>K Friend</td>\n",
       "      <td>...</td>\n",
       "      <td>4</td>\n",
       "      <td>1</td>\n",
       "      <td>11</td>\n",
       "      <td>9</td>\n",
       "      <td>7</td>\n",
       "      <td>4</td>\n",
       "      <td>1</td>\n",
       "      <td>1</td>\n",
       "      <td>0</td>\n",
       "      <td>0</td>\n",
       "    </tr>\n",
       "    <tr>\n",
       "      <th>2</th>\n",
       "      <td>2018-08-11</td>\n",
       "      <td>Fulham</td>\n",
       "      <td>Crystal Palace</td>\n",
       "      <td>0</td>\n",
       "      <td>2</td>\n",
       "      <td>A</td>\n",
       "      <td>0</td>\n",
       "      <td>1</td>\n",
       "      <td>A</td>\n",
       "      <td>M Dean</td>\n",
       "      <td>...</td>\n",
       "      <td>6</td>\n",
       "      <td>9</td>\n",
       "      <td>9</td>\n",
       "      <td>11</td>\n",
       "      <td>5</td>\n",
       "      <td>5</td>\n",
       "      <td>1</td>\n",
       "      <td>2</td>\n",
       "      <td>0</td>\n",
       "      <td>0</td>\n",
       "    </tr>\n",
       "    <tr>\n",
       "      <th>3</th>\n",
       "      <td>2018-08-11</td>\n",
       "      <td>Huddersfield</td>\n",
       "      <td>Chelsea</td>\n",
       "      <td>0</td>\n",
       "      <td>3</td>\n",
       "      <td>A</td>\n",
       "      <td>0</td>\n",
       "      <td>2</td>\n",
       "      <td>A</td>\n",
       "      <td>C Kavanagh</td>\n",
       "      <td>...</td>\n",
       "      <td>1</td>\n",
       "      <td>4</td>\n",
       "      <td>9</td>\n",
       "      <td>8</td>\n",
       "      <td>2</td>\n",
       "      <td>5</td>\n",
       "      <td>2</td>\n",
       "      <td>1</td>\n",
       "      <td>0</td>\n",
       "      <td>0</td>\n",
       "    </tr>\n",
       "    <tr>\n",
       "      <th>4</th>\n",
       "      <td>2018-08-11</td>\n",
       "      <td>Newcastle</td>\n",
       "      <td>Tottenham</td>\n",
       "      <td>1</td>\n",
       "      <td>2</td>\n",
       "      <td>A</td>\n",
       "      <td>1</td>\n",
       "      <td>2</td>\n",
       "      <td>A</td>\n",
       "      <td>M Atkinson</td>\n",
       "      <td>...</td>\n",
       "      <td>2</td>\n",
       "      <td>5</td>\n",
       "      <td>11</td>\n",
       "      <td>12</td>\n",
       "      <td>3</td>\n",
       "      <td>5</td>\n",
       "      <td>2</td>\n",
       "      <td>2</td>\n",
       "      <td>0</td>\n",
       "      <td>0</td>\n",
       "    </tr>\n",
       "  </tbody>\n",
       "</table>\n",
       "<p>5 rows × 22 columns</p>\n",
       "</div>"
      ],
      "text/plain": [
       "        Date      HomeTeam        AwayTeam  FTHG  FTAG FTR  HTHG  HTAG HTR  \\\n",
       "0 2018-08-10    Man United       Leicester     2     1   H     1     0   H   \n",
       "1 2018-08-11   Bournemouth         Cardiff     2     0   H     1     0   H   \n",
       "2 2018-08-11        Fulham  Crystal Palace     0     2   A     0     1   A   \n",
       "3 2018-08-11  Huddersfield         Chelsea     0     3   A     0     2   A   \n",
       "4 2018-08-11     Newcastle       Tottenham     1     2   A     1     2   A   \n",
       "\n",
       "      Referee ...  HST  AST  HF  AF  HC  AC  HY  AY  HR  AR  \n",
       "0  A Marriner ...    6    4  11   8   2   5   2   1   0   0  \n",
       "1    K Friend ...    4    1  11   9   7   4   1   1   0   0  \n",
       "2      M Dean ...    6    9   9  11   5   5   1   2   0   0  \n",
       "3  C Kavanagh ...    1    4   9   8   2   5   2   1   0   0  \n",
       "4  M Atkinson ...    2    5  11  12   3   5   2   2   0   0  \n",
       "\n",
       "[5 rows x 22 columns]"
      ]
     },
     "execution_count": 5,
     "metadata": {},
     "output_type": "execute_result"
    }
   ],
   "source": [
    "league_19.head()"
   ]
  },
  {
   "cell_type": "markdown",
   "metadata": {},
   "source": [
    "# Referee Investigation"
   ]
  },
  {
   "cell_type": "code",
   "execution_count": 6,
   "metadata": {
    "ExecuteTime": {
     "end_time": "2019-05-02T06:42:59.206763Z",
     "start_time": "2019-05-02T06:42:59.166061Z"
    }
   },
   "outputs": [],
   "source": [
    "red = [league[[\"Referee\", \"HR\", \"AR\"]].groupby(\"Referee\").sum() for league in leagues]\n",
    "yellow = [league[[\"Referee\", \"HY\", \"AY\"]].groupby(\"Referee\").sum() for league in leagues]"
   ]
  },
  {
   "cell_type": "code",
   "execution_count": 7,
   "metadata": {
    "ExecuteTime": {
     "end_time": "2019-05-02T06:42:59.228719Z",
     "start_time": "2019-05-02T06:42:59.208059Z"
    }
   },
   "outputs": [],
   "source": [
    "base_red = red[0]\n",
    "for ref in red[1:]:\n",
    "    base_red = base_red.join(ref, on=\"Referee\", how=\"left\", lsuffix=\"_left\", rsuffix=\"_right\")\n",
    "base_yellow = yellow[0]\n",
    "for ref in yellow[1:]:\n",
    "    base_yellow = base_yellow.join(ref, on=\"Referee\", how=\"left\", lsuffix=\"_left\", rsuffix=\"_right\")"
   ]
  },
  {
   "cell_type": "code",
   "execution_count": 8,
   "metadata": {
    "ExecuteTime": {
     "end_time": "2019-05-02T06:42:59.233477Z",
     "start_time": "2019-05-02T06:42:59.229862Z"
    }
   },
   "outputs": [],
   "source": [
    "base_red.fillna(value=0, inplace=True)\n",
    "base_yellow.fillna(value=0, inplace=True)"
   ]
  },
  {
   "cell_type": "code",
   "execution_count": 9,
   "metadata": {
    "ExecuteTime": {
     "end_time": "2019-05-02T06:42:59.237932Z",
     "start_time": "2019-05-02T06:42:59.234751Z"
    }
   },
   "outputs": [],
   "source": [
    "reds = base_red.sum(axis=1)\n",
    "yellows = base_yellow.sum(axis=1)"
   ]
  },
  {
   "cell_type": "code",
   "execution_count": 10,
   "metadata": {
    "ExecuteTime": {
     "end_time": "2019-05-02T06:42:59.242085Z",
     "start_time": "2019-05-02T06:42:59.239130Z"
    }
   },
   "outputs": [],
   "source": [
    "# Same referee, different spelling\n",
    "reds.drop(\"Mn Atkinson\", inplace=True)\n",
    "yellows.drop(\"Mn Atkinson\", inplace=True)"
   ]
  },
  {
   "cell_type": "code",
   "execution_count": 11,
   "metadata": {
    "ExecuteTime": {
     "end_time": "2019-05-02T06:42:59.246397Z",
     "start_time": "2019-05-02T06:42:59.243391Z"
    }
   },
   "outputs": [],
   "source": [
    "refs = pd.DataFrame(reds, columns=[\"Red_Cards\"])\n",
    "refs[\"Yellow_Cards\"] = yellows"
   ]
  },
  {
   "cell_type": "code",
   "execution_count": 12,
   "metadata": {
    "ExecuteTime": {
     "end_time": "2019-05-02T06:42:59.294273Z",
     "start_time": "2019-05-02T06:42:59.247829Z"
    }
   },
   "outputs": [],
   "source": [
    "red_trace = go.Bar(\n",
    "    x=refs.index,\n",
    "    y=refs.Red_Cards,\n",
    "    name='Red Cards',\n",
    "    marker=dict(\n",
    "        color='red')\n",
    ")\n",
    "yellow_trace = go.Bar(\n",
    "    x=refs.index,\n",
    "    y=refs.Yellow_Cards,\n",
    "    name='Yellow Cards',\n",
    "    marker=dict(\n",
    "        color='yellow')\n",
    ")\n",
    "traces = [yellow_trace, red_trace]"
   ]
  },
  {
   "cell_type": "code",
   "execution_count": 13,
   "metadata": {
    "ExecuteTime": {
     "end_time": "2019-05-02T06:42:59.622957Z",
     "start_time": "2019-05-02T06:42:59.295743Z"
    }
   },
   "outputs": [
    {
     "name": "stdout",
     "output_type": "stream",
     "text": [
      "This is the format of your plot grid:\n",
      "[ (1,1) x1,y1 ]  [ (1,2) x2,y2 ]\n",
      "\n"
     ]
    },
    {
     "data": {
      "application/vnd.plotly.v1+json": {
       "config": {
        "linkText": "Export to plot.ly",
        "plotlyServerURL": "https://plot.ly",
        "showLink": true
       },
       "data": [
        {
         "marker": {
          "color": "yellow"
         },
         "name": "Yellow Cards",
         "type": "bar",
         "uid": "f26b894c-11c6-43ed-bd79-50672dc29c2f",
         "x": [
          "A Marriner",
          "A Taylor",
          "A Wiley",
          "C Foy",
          "H Webb",
          "K Friend",
          "L Mason",
          "L Probert",
          "M Atkinson",
          "M Clattenburg",
          "M Dean",
          "M Halsey",
          "M Jones",
          "P Dowd",
          "P Walton",
          "S Attwell",
          "S Bennett",
          "St Bennett"
         ],
         "xaxis": "x",
         "y": [
          820,
          761,
          81,
          363,
          484,
          708,
          672,
          409,
          964,
          640,
          1058,
          132,
          601,
          586,
          205,
          294,
          103,
          5
         ],
         "yaxis": "y"
        },
        {
         "marker": {
          "color": "red"
         },
         "name": "Red Cards",
         "type": "bar",
         "uid": "662765ad-2652-4e85-9401-6b1a0d8965b5",
         "x": [
          "A Marriner",
          "A Taylor",
          "A Wiley",
          "C Foy",
          "H Webb",
          "K Friend",
          "L Mason",
          "L Probert",
          "M Atkinson",
          "M Clattenburg",
          "M Dean",
          "M Halsey",
          "M Jones",
          "P Dowd",
          "P Walton",
          "S Attwell",
          "S Bennett",
          "St Bennett"
         ],
         "xaxis": "x2",
         "y": [
          44,
          31,
          5,
          20,
          14,
          21,
          32,
          31,
          45,
          36,
          54,
          3,
          24,
          32,
          12,
          10,
          5,
          0
         ],
         "yaxis": "y2"
        }
       ],
       "layout": {
        "title": "C'MON REF!",
        "xaxis": {
         "anchor": "y",
         "domain": [
          0,
          0.45
         ]
        },
        "xaxis2": {
         "anchor": "y2",
         "domain": [
          0.55,
          1
         ]
        },
        "yaxis": {
         "anchor": "x",
         "domain": [
          0,
          1
         ],
         "title": "Count"
        },
        "yaxis2": {
         "anchor": "x2",
         "domain": [
          0,
          1
         ]
        }
       }
      },
      "text/html": [
       "<div id=\"1c9218fd-0d5d-4f1b-98e0-5ffd98d5e8b5\" style=\"height: 525px; width: 100%;\" class=\"plotly-graph-div\"></div><script type=\"text/javascript\">require([\"plotly\"], function(Plotly) { window.PLOTLYENV=window.PLOTLYENV || {};window.PLOTLYENV.BASE_URL=\"https://plot.ly\";Plotly.newPlot(\"1c9218fd-0d5d-4f1b-98e0-5ffd98d5e8b5\", [{\"marker\": {\"color\": \"yellow\"}, \"name\": \"Yellow Cards\", \"x\": [\"A Marriner\", \"A Taylor\", \"A Wiley\", \"C Foy\", \"H Webb\", \"K Friend\", \"L Mason\", \"L Probert\", \"M Atkinson\", \"M Clattenburg\", \"M Dean\", \"M Halsey\", \"M Jones\", \"P Dowd\", \"P Walton\", \"S Attwell\", \"S Bennett\", \"St Bennett\"], \"y\": [820.0, 761.0, 81.0, 363.0, 484.0, 708.0, 672.0, 409.0, 964.0, 640.0, 1058.0, 132.0, 601.0, 586.0, 205.0, 294.0, 103.0, 5.0], \"type\": \"bar\", \"uid\": \"f26b894c-11c6-43ed-bd79-50672dc29c2f\", \"xaxis\": \"x\", \"yaxis\": \"y\"}, {\"marker\": {\"color\": \"red\"}, \"name\": \"Red Cards\", \"x\": [\"A Marriner\", \"A Taylor\", \"A Wiley\", \"C Foy\", \"H Webb\", \"K Friend\", \"L Mason\", \"L Probert\", \"M Atkinson\", \"M Clattenburg\", \"M Dean\", \"M Halsey\", \"M Jones\", \"P Dowd\", \"P Walton\", \"S Attwell\", \"S Bennett\", \"St Bennett\"], \"y\": [44.0, 31.0, 5.0, 20.0, 14.0, 21.0, 32.0, 31.0, 45.0, 36.0, 54.0, 3.0, 24.0, 32.0, 12.0, 10.0, 5.0, 0.0], \"type\": \"bar\", \"uid\": \"662765ad-2652-4e85-9401-6b1a0d8965b5\", \"xaxis\": \"x2\", \"yaxis\": \"y2\"}], {\"xaxis\": {\"anchor\": \"y\", \"domain\": [0.0, 0.45]}, \"yaxis\": {\"anchor\": \"x\", \"domain\": [0.0, 1.0], \"title\": \"Count\"}, \"xaxis2\": {\"anchor\": \"y2\", \"domain\": [0.55, 1.0]}, \"yaxis2\": {\"anchor\": \"x2\", \"domain\": [0.0, 1.0]}, \"title\": \"C'MON REF!\"}, {\"showLink\": true, \"linkText\": \"Export to plot.ly\", \"plotlyServerURL\": \"https://plot.ly\"})});</script><script type=\"text/javascript\">window.addEventListener(\"resize\", function(){window._Plotly.Plots.resize(document.getElementById(\"1c9218fd-0d5d-4f1b-98e0-5ffd98d5e8b5\"));});</script>"
      ],
      "text/vnd.plotly.v1+html": [
       "<div id=\"1c9218fd-0d5d-4f1b-98e0-5ffd98d5e8b5\" style=\"height: 525px; width: 100%;\" class=\"plotly-graph-div\"></div><script type=\"text/javascript\">require([\"plotly\"], function(Plotly) { window.PLOTLYENV=window.PLOTLYENV || {};window.PLOTLYENV.BASE_URL=\"https://plot.ly\";Plotly.newPlot(\"1c9218fd-0d5d-4f1b-98e0-5ffd98d5e8b5\", [{\"marker\": {\"color\": \"yellow\"}, \"name\": \"Yellow Cards\", \"x\": [\"A Marriner\", \"A Taylor\", \"A Wiley\", \"C Foy\", \"H Webb\", \"K Friend\", \"L Mason\", \"L Probert\", \"M Atkinson\", \"M Clattenburg\", \"M Dean\", \"M Halsey\", \"M Jones\", \"P Dowd\", \"P Walton\", \"S Attwell\", \"S Bennett\", \"St Bennett\"], \"y\": [820.0, 761.0, 81.0, 363.0, 484.0, 708.0, 672.0, 409.0, 964.0, 640.0, 1058.0, 132.0, 601.0, 586.0, 205.0, 294.0, 103.0, 5.0], \"type\": \"bar\", \"uid\": \"f26b894c-11c6-43ed-bd79-50672dc29c2f\", \"xaxis\": \"x\", \"yaxis\": \"y\"}, {\"marker\": {\"color\": \"red\"}, \"name\": \"Red Cards\", \"x\": [\"A Marriner\", \"A Taylor\", \"A Wiley\", \"C Foy\", \"H Webb\", \"K Friend\", \"L Mason\", \"L Probert\", \"M Atkinson\", \"M Clattenburg\", \"M Dean\", \"M Halsey\", \"M Jones\", \"P Dowd\", \"P Walton\", \"S Attwell\", \"S Bennett\", \"St Bennett\"], \"y\": [44.0, 31.0, 5.0, 20.0, 14.0, 21.0, 32.0, 31.0, 45.0, 36.0, 54.0, 3.0, 24.0, 32.0, 12.0, 10.0, 5.0, 0.0], \"type\": \"bar\", \"uid\": \"662765ad-2652-4e85-9401-6b1a0d8965b5\", \"xaxis\": \"x2\", \"yaxis\": \"y2\"}], {\"xaxis\": {\"anchor\": \"y\", \"domain\": [0.0, 0.45]}, \"yaxis\": {\"anchor\": \"x\", \"domain\": [0.0, 1.0], \"title\": \"Count\"}, \"xaxis2\": {\"anchor\": \"y2\", \"domain\": [0.55, 1.0]}, \"yaxis2\": {\"anchor\": \"x2\", \"domain\": [0.0, 1.0]}, \"title\": \"C'MON REF!\"}, {\"showLink\": true, \"linkText\": \"Export to plot.ly\", \"plotlyServerURL\": \"https://plot.ly\"})});</script><script type=\"text/javascript\">window.addEventListener(\"resize\", function(){window._Plotly.Plots.resize(document.getElementById(\"1c9218fd-0d5d-4f1b-98e0-5ffd98d5e8b5\"));});</script>"
      ]
     },
     "metadata": {},
     "output_type": "display_data"
    }
   ],
   "source": [
    "fig = tools.make_subplots(rows=1, cols=2)\n",
    "for d in range(len(traces)):\n",
    "    fig.append_trace(traces[d], 1, d+1)\n",
    "fig.layout.update(title=\"C'MON REF!\", yaxis=dict(title=\"Count\"))\n",
    "iplot(fig)"
   ]
  },
  {
   "cell_type": "markdown",
   "metadata": {},
   "source": [
    "# Discussion:\n",
    "As an avid soccer fan and someone who has followed the Premier League (PL) for many years, I decided to download the past 10 seasons of PL data from a free online source. The dataset includes stats for each game of the season such as home team, away team, full time score, halftime score, assists, referees, etc. The PL is the top flight soccer league in England, where many of the best players in the world perform every week from August through May. One of many influential factors in any sport is the referee. In soccer, the referee penalizes players for particularly bad fouls with either a yellow or red card. Yellow cards serve as warnings, while red cards force the player to leave the game, is banned from the next game, and the team must play the rest of the game one person short. In addition, if a red card is issued, the league officials can review the incident after the game to determine if further punishment is required, such as being banned from play for an additional number of games and/or fines. In addition, if a player receives two yellow cards in the same game, the player is then showed a red with the same implications (usually without the post game review, as this was most likely a less severe foul). Therefore, the referee has a great influence of the course of the game. The barplot above shows how many yellow and red cards each referee has shown to players over the past 10 years. As we can see, some referees are very particular about showing cards, while some hand out cards like candy on Halloween. For example, C Foy has given 363 yellow cards and 20 red cards. On the other hand, M Dean has shown 1058 yellow cards and 54 red cards. However, one problem with this barplot is that it does not account for a referee retiring, or another beginning in the course of these 10 years. Thus, some of the referees might look like they never give cards such as A Wiley, who has only recorded 81 yellow cards and 5 red cards. I would suspect that A Wiley either retired soon after 2009, or has started his PL referee career within the past year. Furthermore, it is interesting that we see almost the same pattern in both plots where referees with high yellow card counts relative to other referees also have high red card counts relative to other referees. Another takeaway from these plots is that it is clear that referees do officiate uniformly and can be very strict or lenient. So, as a player, especially one who tends to foul often, it would be useful to know who is officiating the game."
   ]
  },
  {
   "cell_type": "code",
   "execution_count": null,
   "metadata": {},
   "outputs": [],
   "source": []
  }
 ],
 "metadata": {
  "kernelspec": {
   "display_name": "Python 3",
   "language": "python",
   "name": "python3"
  },
  "language_info": {
   "codemirror_mode": {
    "name": "ipython",
    "version": 3
   },
   "file_extension": ".py",
   "mimetype": "text/x-python",
   "name": "python",
   "nbconvert_exporter": "python",
   "pygments_lexer": "ipython3",
   "version": "3.7.1"
  },
  "varInspector": {
   "cols": {
    "lenName": 16,
    "lenType": 16,
    "lenVar": 40
   },
   "kernels_config": {
    "python": {
     "delete_cmd_postfix": "",
     "delete_cmd_prefix": "del ",
     "library": "var_list.py",
     "varRefreshCmd": "print(var_dic_list())"
    },
    "r": {
     "delete_cmd_postfix": ") ",
     "delete_cmd_prefix": "rm(",
     "library": "var_list.r",
     "varRefreshCmd": "cat(var_dic_list()) "
    }
   },
   "types_to_exclude": [
    "module",
    "function",
    "builtin_function_or_method",
    "instance",
    "_Feature"
   ],
   "window_display": false
  }
 },
 "nbformat": 4,
 "nbformat_minor": 2
}
