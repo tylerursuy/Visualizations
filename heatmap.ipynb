{
 "cells": [
  {
   "cell_type": "code",
   "execution_count": 1,
   "metadata": {
    "ExecuteTime": {
     "end_time": "2019-05-16T02:22:30.033404Z",
     "start_time": "2019-05-16T02:22:29.286429Z"
    }
   },
   "outputs": [],
   "source": [
    "import pandas as pd\n",
    "import numpy as np\n",
    "import matplotlib.pyplot as plt\n",
    "import seaborn as sns"
   ]
  },
  {
   "cell_type": "code",
   "execution_count": 2,
   "metadata": {
    "ExecuteTime": {
     "end_time": "2019-05-16T02:22:30.080328Z",
     "start_time": "2019-05-16T02:22:30.037187Z"
    }
   },
   "outputs": [],
   "source": [
    "league_19 = pd.read_csv(\"data/season-1819_csv.csv\")\n",
    "league_18 = pd.read_csv(\"data/season-1718_csv.csv\")\n",
    "league_17 = pd.read_csv(\"data/season-1617_csv.csv\")\n",
    "league_16 = pd.read_csv(\"data/season-1516_csv.csv\")\n",
    "league_15 = pd.read_csv(\"data/season-1415_csv.csv\")\n",
    "league_14 = pd.read_csv(\"data/season-1314_csv.csv\")\n",
    "league_13 = pd.read_csv(\"data/season-1213_csv.csv\")\n",
    "league_12 = pd.read_csv(\"data/season-1112_csv.csv\")\n",
    "league_11 = pd.read_csv(\"data/season-1011_csv.csv\")\n",
    "league_10 = pd.read_csv(\"data/season-0910_csv.csv\")"
   ]
  },
  {
   "cell_type": "code",
   "execution_count": 3,
   "metadata": {
    "ExecuteTime": {
     "end_time": "2019-05-16T02:22:30.084924Z",
     "start_time": "2019-05-16T02:22:30.082115Z"
    }
   },
   "outputs": [],
   "source": [
    "leagues = [league_10, league_11, league_12, league_13, league_14, league_15, league_16, \n",
    "           league_17, league_18, league_19]"
   ]
  },
  {
   "cell_type": "code",
   "execution_count": 4,
   "metadata": {
    "ExecuteTime": {
     "end_time": "2019-05-16T02:22:30.102621Z",
     "start_time": "2019-05-16T02:22:30.087461Z"
    }
   },
   "outputs": [],
   "source": [
    "for i in range(len(leagues)):\n",
    "    leagues[i][\"Month\"] = pd.DatetimeIndex(leagues[i].Date).month\n",
    "    leagues[i][\"Season\"] = np.repeat(2010+i, len(leagues[i]))"
   ]
  },
  {
   "cell_type": "code",
   "execution_count": 5,
   "metadata": {
    "ExecuteTime": {
     "end_time": "2019-05-16T02:22:30.142781Z",
     "start_time": "2019-05-16T02:22:30.105300Z"
    }
   },
   "outputs": [],
   "source": [
    "full = league_10\n",
    "for league in leagues[1:]:\n",
    "    full = full.append(league)"
   ]
  },
  {
   "cell_type": "code",
   "execution_count": 6,
   "metadata": {
    "ExecuteTime": {
     "end_time": "2019-05-16T02:22:30.155565Z",
     "start_time": "2019-05-16T02:22:30.144137Z"
    }
   },
   "outputs": [],
   "source": [
    "monthly_goals = full[[\"Month\", \"Season\", \"FTHG\", \"FTAG\"]].groupby([\"Season\", \"Month\"]).sum()\n",
    "monthly_goals[\"Goals\"] = monthly_goals[\"FTHG\"] + monthly_goals[\"FTAG\"]\n",
    "monthly_goals.drop(columns=[\"FTHG\", \"FTAG\"], inplace=True)\n",
    "monthly_goals = monthly_goals.reset_index()"
   ]
  },
  {
   "cell_type": "code",
   "execution_count": 7,
   "metadata": {
    "ExecuteTime": {
     "end_time": "2019-05-16T02:22:30.163626Z",
     "start_time": "2019-05-16T02:22:30.156874Z"
    }
   },
   "outputs": [],
   "source": [
    "month_means = monthly_goals[[\"Month\", \"Goals\"]].groupby(\"Month\").mean()\n",
    "may_mean = month_means.iloc[4]\n",
    "monthly_goals.loc[99] = [2019, 5, int(may_mean.values[0])]"
   ]
  },
  {
   "cell_type": "code",
   "execution_count": 8,
   "metadata": {
    "ExecuteTime": {
     "end_time": "2019-05-16T02:22:30.170663Z",
     "start_time": "2019-05-16T02:22:30.165090Z"
    }
   },
   "outputs": [],
   "source": [
    "goals_pivot = monthly_goals.pivot(\"Season\", \"Month\", \"Goals\")"
   ]
  },
  {
   "cell_type": "code",
   "execution_count": 9,
   "metadata": {
    "ExecuteTime": {
     "end_time": "2019-05-16T02:22:30.375038Z",
     "start_time": "2019-05-16T02:22:30.171912Z"
    }
   },
   "outputs": [
    {
     "data": {
      "image/png": "[encoded data removed]",
      "text/plain": [
       "<Figure size 648x576 with 2 Axes>"
      ]
     },
     "metadata": {
      "needs_background": "light"
     },
     "output_type": "display_data"
    }
   ],
   "source": [
    "plt.figure(figsize=(9,8))\n",
    "sns.heatmap(goals_pivot, cbar_kws={\"label\": \"Goals\"})\n",
    "plt.title(\"Goals per Month per Season\")\n",
    "plt.show()"
   ]
  },
  {
   "cell_type": "markdown",
   "metadata": {},
   "source": [
    "Most goals happen across all seasons are scored around December. This could be because there is also a spike in number of games around this time of year. And it seems that August has the least amount of goals usually across seasons. The new season begins in August, so maybe this is the result of teams trying to settle into the new season."
   ]
  },
  {
   "cell_type": "code",
   "execution_count": null,
   "metadata": {},
   "outputs": [],
   "source": []
  }
 ],
 "metadata": {
  "kernelspec": {
   "display_name": "Python 3",
   "language": "python",
   "name": "python3"
  },
  "language_info": {
   "codemirror_mode": {
    "name": "ipython",
    "version": 3
   },
   "file_extension": ".py",
   "mimetype": "text/x-python",
   "name": "python",
   "nbconvert_exporter": "python",
   "pygments_lexer": "ipython3",
   "version": "3.7.1"
  },
  "varInspector": {
   "cols": {
    "lenName": 16,
    "lenType": 16,
    "lenVar": 40
   },
   "kernels_config": {
    "python": {
     "delete_cmd_postfix": "",
     "delete_cmd_prefix": "del ",
     "library": "var_list.py",
     "varRefreshCmd": "print(var_dic_list())"
    },
    "r": {
     "delete_cmd_postfix": ") ",
     "delete_cmd_prefix": "rm(",
     "library": "var_list.r",
     "varRefreshCmd": "cat(var_dic_list()) "
    }
   },
   "types_to_exclude": [
    "module",
    "function",
    "builtin_function_or_method",
    "instance",
    "_Feature"
   ],
   "window_display": false
  }
 },
 "nbformat": 4,
 "nbformat_minor": 2
}
