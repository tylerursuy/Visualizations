{
 "cells": [
  {
   "cell_type": "code",
   "execution_count": 1,
   "metadata": {
    "ExecuteTime": {
     "end_time": "2019-05-16T06:54:45.798739Z",
     "start_time": "2019-05-16T06:54:45.292789Z"
    }
   },
   "outputs": [],
   "source": [
    "import pandas as pd\n",
    "import numpy as np\n",
    "import matplotlib.pyplot as plt\n",
    "\n",
    "%matplotlib inline"
   ]
  },
  {
   "cell_type": "code",
   "execution_count": 2,
   "metadata": {
    "ExecuteTime": {
     "end_time": "2019-05-16T06:54:46.266487Z",
     "start_time": "2019-05-16T06:54:46.251445Z"
    }
   },
   "outputs": [],
   "source": [
    "league_10 = pd.read_csv(\"data/season-0910_csv.csv\")"
   ]
  },
  {
   "cell_type": "code",
   "execution_count": 4,
   "metadata": {
    "ExecuteTime": {
     "end_time": "2019-05-16T06:54:46.635622Z",
     "start_time": "2019-05-16T06:54:46.628859Z"
    }
   },
   "outputs": [],
   "source": [
    "def points(df, team):\n",
    "    \"\"\"Get point count for a team.\n",
    "    Note:\n",
    "     - Assigning -3 to a loss for visual purposes.\n",
    "     \"\"\"\n",
    "    \n",
    "    df = df[(df.HomeTeam==team) | (df.AwayTeam==team)]\n",
    "    vals = df.values\n",
    "    points = np.zeros(df.shape[0])\n",
    "    running_count = 0\n",
    "    for row in range(len(vals)):\n",
    "        if vals[row][1] == team and vals[row][5] == \"H\":\n",
    "            running_count += 3\n",
    "            points[row] = running_count\n",
    "        elif vals[row][2] == team and vals[row][5] == \"A\":\n",
    "            running_count += 3\n",
    "            points[row] = running_count\n",
    "        elif vals[row][1] == team and vals[row][5] == \"D\":\n",
    "            running_count += 1\n",
    "            points[row] = running_count\n",
    "        elif vals[row][2] == team and vals[row][5] == \"D\":\n",
    "            running_count += 1\n",
    "            points[row] = running_count\n",
    "        else:\n",
    "            running_count += -3\n",
    "            points[row] += running_count\n",
    "    return points"
   ]
  },
  {
   "cell_type": "code",
   "execution_count": 5,
   "metadata": {
    "ExecuteTime": {
     "end_time": "2019-05-16T06:54:46.739500Z",
     "start_time": "2019-05-16T06:54:46.732527Z"
    }
   },
   "outputs": [],
   "source": [
    "def race_top4(df):\n",
    "    \"\"\"Get season long progression of top four teams at the end of the season.\"\"\"\n",
    "    \n",
    "    teams = df.HomeTeam.unique()\n",
    "    index = pd.DataFrame(list(df.index), columns=[\"Index\"]).set_index(\"Index\")\n",
    "    index[\"Date\"] = df.Date\n",
    "    team_info = []\n",
    "    for team in teams:\n",
    "        curr_team = df[(df.HomeTeam == team) | (df.AwayTeam == team)]\n",
    "        curr_team[team + \"_Points\"] = points(curr_team, team)\n",
    "        curr = curr_team[[team+\"_Points\"]]\n",
    "        index = index.join(curr, how=\"left\")\n",
    "    for team in index.columns:\n",
    "        curr_points = 0\n",
    "        for row in range(len(index[team])):\n",
    "            if index[team].iloc[row] != index[team].iloc[row]:\n",
    "                index[team].iloc[row] = curr_points\n",
    "                curr_points = index[team].iloc[row]\n",
    "            else:\n",
    "                curr_points = index[team].iloc[row]\n",
    "    last_week = index.iloc[-1].drop(\"Date\").sort_values(ascending=False)\n",
    "    index = index.set_index(\"Date\")\n",
    "    top_4 = last_week.head(4).index\n",
    "    top_4 = index[top_4]\n",
    "    return top_4"
   ]
  },
  {
   "cell_type": "code",
   "execution_count": 1,
   "metadata": {
    "ExecuteTime": {
     "end_time": "2019-05-16T17:45:17.538899Z",
     "start_time": "2019-05-16T17:45:17.536412Z"
    }
   },
   "outputs": [],
   "source": [
    "top4 = race_top4(league_10)"
   ]
  },
  {
   "cell_type": "code",
   "execution_count": 17,
   "metadata": {
    "ExecuteTime": {
     "end_time": "2019-05-16T06:58:28.306790Z",
     "start_time": "2019-05-16T06:58:28.045445Z"
    }
   },
   "outputs": [
    {
     "data": {
      "image/png": "[encoded data removed]",
      "text/plain": [
       "<Figure size 432x288 with 1 Axes>"
      ]
     },
     "metadata": {
      "needs_background": "light"
     },
     "output_type": "display_data"
    }
   ],
   "source": [
    "top4.plot.area()\n",
    "plt.show()"
   ]
  },
  {
   "cell_type": "code",
   "execution_count": 18,
   "metadata": {
    "ExecuteTime": {
     "end_time": "2019-05-16T06:59:26.125358Z",
     "start_time": "2019-05-16T06:59:26.115749Z"
    }
   },
   "outputs": [],
   "source": [
    "top4.reset_index(inplace=True)\n",
    "top4.to_csv(\"data/stacked.csv\", index=False)"
   ]
  },
  {
   "cell_type": "code",
   "execution_count": null,
   "metadata": {},
   "outputs": [],
   "source": []
  }
 ],
 "metadata": {
  "kernelspec": {
   "display_name": "Python 3",
   "language": "python",
   "name": "python3"
  },
  "language_info": {
   "codemirror_mode": {
    "name": "ipython",
    "version": 3
   },
   "file_extension": ".py",
   "mimetype": "text/x-python",
   "name": "python",
   "nbconvert_exporter": "python",
   "pygments_lexer": "ipython3",
   "version": "3.7.1"
  },
  "varInspector": {
   "cols": {
    "lenName": 16,
    "lenType": 16,
    "lenVar": 40
   },
   "kernels_config": {
    "python": {
     "delete_cmd_postfix": "",
     "delete_cmd_prefix": "del ",
     "library": "var_list.py",
     "varRefreshCmd": "print(var_dic_list())"
    },
    "r": {
     "delete_cmd_postfix": ") ",
     "delete_cmd_prefix": "rm(",
     "library": "var_list.r",
     "varRefreshCmd": "cat(var_dic_list()) "
    }
   },
   "types_to_exclude": [
    "module",
    "function",
    "builtin_function_or_method",
    "instance",
    "_Feature"
   ],
   "window_display": false
  }
 },
 "nbformat": 4,
 "nbformat_minor": 2
}
