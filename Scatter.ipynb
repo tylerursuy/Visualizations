{
 "cells": [
  {
   "cell_type": "code",
   "execution_count": 1,
   "metadata": {
    "ExecuteTime": {
     "end_time": "2019-05-16T07:30:12.701246Z",
     "start_time": "2019-05-16T07:30:11.116261Z"
    }
   },
   "outputs": [
    {
     "data": {
      "text/html": [
       "<script type=\"text/javascript\">window.PlotlyConfig = {MathJaxConfig: 'local'};</script><script type=\"text/javascript\">if (window.MathJax) {MathJax.Hub.Config({SVG: {font: \"STIX-Web\"}});}</script><script>requirejs.config({paths: { 'plotly': ['https://cdn.plot.ly/plotly-latest.min']},});if(!window._Plotly) {require(['plotly'],function(plotly) {window._Plotly=plotly;});}</script>"
      ],
      "text/vnd.plotly.v1+html": [
       "<script type=\"text/javascript\">window.PlotlyConfig = {MathJaxConfig: 'local'};</script><script type=\"text/javascript\">if (window.MathJax) {MathJax.Hub.Config({SVG: {font: \"STIX-Web\"}});}</script><script>requirejs.config({paths: { 'plotly': ['https://cdn.plot.ly/plotly-latest.min']},});if(!window._Plotly) {require(['plotly'],function(plotly) {window._Plotly=plotly;});}</script>"
      ]
     },
     "metadata": {},
     "output_type": "display_data"
    },
    {
     "data": {
      "text/html": [
       "<script type=\"text/javascript\">window.PlotlyConfig = {MathJaxConfig: 'local'};</script><script type=\"text/javascript\">if (window.MathJax) {MathJax.Hub.Config({SVG: {font: \"STIX-Web\"}});}</script><script>requirejs.config({paths: { 'plotly': ['https://cdn.plot.ly/plotly-latest.min']},});if(!window._Plotly) {require(['plotly'],function(plotly) {window._Plotly=plotly;});}</script>"
      ],
      "text/vnd.plotly.v1+html": [
       "<script type=\"text/javascript\">window.PlotlyConfig = {MathJaxConfig: 'local'};</script><script type=\"text/javascript\">if (window.MathJax) {MathJax.Hub.Config({SVG: {font: \"STIX-Web\"}});}</script><script>requirejs.config({paths: { 'plotly': ['https://cdn.plot.ly/plotly-latest.min']},});if(!window._Plotly) {require(['plotly'],function(plotly) {window._Plotly=plotly;});}</script>"
      ]
     },
     "metadata": {},
     "output_type": "display_data"
    }
   ],
   "source": [
    "import pandas as pd\n",
    "import numpy as np\n",
    "import plotly.plotly as py\n",
    "import plotly.graph_objs as go\n",
    "from plotly.offline import iplot, init_notebook_mode\n",
    "import cufflinks\n",
    "import plotly\n",
    "from IPython.core.interactiveshell import InteractiveShell\n",
    "InteractiveShell.ast_node_interactivity = 'all'\n",
    "cufflinks.go_offline(connected=True)\n",
    "init_notebook_mode(connected=True)\n",
    "%matplotlib inline"
   ]
  },
  {
   "cell_type": "code",
   "execution_count": 2,
   "metadata": {
    "ExecuteTime": {
     "end_time": "2019-05-16T07:31:23.540631Z",
     "start_time": "2019-05-16T07:31:23.392278Z"
    }
   },
   "outputs": [],
   "source": [
    "league_18 = pd.read_csv(\"data/season-1718_csv.csv\")"
   ]
  },
  {
   "cell_type": "code",
   "execution_count": 3,
   "metadata": {
    "ExecuteTime": {
     "end_time": "2019-05-16T07:31:23.608083Z",
     "start_time": "2019-05-16T07:31:23.597393Z"
    }
   },
   "outputs": [],
   "source": [
    "home_sums = league_18[[\"HomeTeam\", \"HTHG\", \"FTHG\"]].groupby(\"HomeTeam\").sum()\n",
    "away_sums = league_18[[\"AwayTeam\", \"HTAG\", \"FTAG\"]].groupby(\"AwayTeam\").sum()"
   ]
  },
  {
   "cell_type": "code",
   "execution_count": 4,
   "metadata": {
    "ExecuteTime": {
     "end_time": "2019-05-16T07:31:23.866441Z",
     "start_time": "2019-05-16T07:31:23.862896Z"
    }
   },
   "outputs": [],
   "source": [
    "home_sums.index.name = \"Team\"\n",
    "away_sums.index.name = \"Team\"\n",
    "home_sums.columns = [\"HalfTime\", \"FullTime\"]\n",
    "away_sums.columns = [\"HalfTime\", \"FullTime\"]"
   ]
  },
  {
   "cell_type": "code",
   "execution_count": 5,
   "metadata": {
    "ExecuteTime": {
     "end_time": "2019-05-16T07:31:24.127990Z",
     "start_time": "2019-05-16T07:31:24.120803Z"
    }
   },
   "outputs": [],
   "source": [
    "full_sums = home_sums + away_sums\n",
    "full_sums[\"SecondHalf\"] = full_sums.loc[:, \"FullTime\"] - full_sums.loc[:, \"HalfTime\"]"
   ]
  },
  {
   "cell_type": "code",
   "execution_count": 6,
   "metadata": {
    "ExecuteTime": {
     "end_time": "2019-05-16T07:31:24.580730Z",
     "start_time": "2019-05-16T07:31:24.576875Z"
    }
   },
   "outputs": [],
   "source": [
    "full_sums.drop(columns=\"FullTime\", inplace=True)"
   ]
  },
  {
   "cell_type": "code",
   "execution_count": 7,
   "metadata": {
    "ExecuteTime": {
     "end_time": "2019-05-16T07:31:26.084234Z",
     "start_time": "2019-05-16T07:31:26.079830Z"
    }
   },
   "outputs": [],
   "source": [
    "full_sums[\"Ratio\"] = full_sums[\"SecondHalf\"] / (full_sums[\"HalfTime\"] + full_sums[\"SecondHalf\"])"
   ]
  },
  {
   "cell_type": "code",
   "execution_count": 8,
   "metadata": {
    "ExecuteTime": {
     "end_time": "2019-05-16T07:31:26.660068Z",
     "start_time": "2019-05-16T07:31:26.656763Z"
    }
   },
   "outputs": [],
   "source": [
    "full_sums.reset_index(inplace=True)"
   ]
  },
  {
   "cell_type": "code",
   "execution_count": 9,
   "metadata": {
    "ExecuteTime": {
     "end_time": "2019-05-16T07:31:26.845185Z",
     "start_time": "2019-05-16T07:31:26.840081Z"
    }
   },
   "outputs": [],
   "source": [
    "def wins(df):\n",
    "    teams = df.HomeTeam.unique()\n",
    "    team_wins = dict()\n",
    "    for team in teams:\n",
    "        wins = 0\n",
    "        for row in range(df.shape[0]):\n",
    "            if df.HomeTeam.iloc[row] == team and df.FTHG.iloc[row] > df.FTAG.iloc[row]:\n",
    "                wins += 1\n",
    "            elif df.AwayTeam.iloc[row] == team and df.FTAG.iloc[row] > df.FTHG.iloc[row]:\n",
    "                wins += 1\n",
    "        team_wins[team] = wins\n",
    "    return team_wins"
   ]
  },
  {
   "cell_type": "code",
   "execution_count": 10,
   "metadata": {
    "ExecuteTime": {
     "end_time": "2019-05-16T07:31:28.537540Z",
     "start_time": "2019-05-16T07:31:28.327426Z"
    }
   },
   "outputs": [],
   "source": [
    "team_wins = wins(league_18)"
   ]
  },
  {
   "cell_type": "code",
   "execution_count": 11,
   "metadata": {
    "ExecuteTime": {
     "end_time": "2019-05-16T07:31:28.606525Z",
     "start_time": "2019-05-16T07:31:28.597130Z"
    }
   },
   "outputs": [],
   "source": [
    "full_sums[\"Wins\"] = full_sums.Team.replace(team_wins)"
   ]
  },
  {
   "cell_type": "code",
   "execution_count": 12,
   "metadata": {
    "ExecuteTime": {
     "end_time": "2019-05-16T07:31:28.672303Z",
     "start_time": "2019-05-16T07:31:28.666317Z"
    }
   },
   "outputs": [],
   "source": [
    "hover_text = [f\"Team: {row[0]}<br>Wins: {row[1]}<br>First Half: {row[2]}<br>Second Half: {row[3]}\" \n",
    "              for row in full_sums[[\"Team\", \"Wins\", \"HalfTime\", \"SecondHalf\"]].values]"
   ]
  },
  {
   "cell_type": "code",
   "execution_count": 13,
   "metadata": {
    "ExecuteTime": {
     "end_time": "2019-05-16T07:31:28.934113Z",
     "start_time": "2019-05-16T07:31:28.831511Z"
    }
   },
   "outputs": [],
   "source": [
    "trace = [go.Scatter(\n",
    "    x=full_sums[\"HalfTime\"]+np.random.choice(a=np.linspace(-1, 1, 20), replace=False, size=20), \n",
    "    y=full_sums[\"SecondHalf\"].values,\n",
    "    text=hover_text,\n",
    "    hoverinfo=\"text\",\n",
    "    mode=\"markers\",\n",
    "    marker=dict(\n",
    "        size=full_sums[\"Wins\"]**1.2,\n",
    "        color=\"Green\"))]"
   ]
  },
  {
   "cell_type": "code",
   "execution_count": 14,
   "metadata": {
    "ExecuteTime": {
     "end_time": "2019-05-16T07:31:31.001543Z",
     "start_time": "2019-05-16T07:31:30.510930Z"
    }
   },
   "outputs": [],
   "source": [
    "layout = go.Layout(\n",
    "    title=\"Second Half Goals vs Wins for 2018 Season\", \n",
    "    xaxis=dict(title=\"First Half Goals\"), \n",
    "    yaxis=dict(title=\"Second Half Goals\"))"
   ]
  },
  {
   "cell_type": "code",
   "execution_count": 15,
   "metadata": {
    "ExecuteTime": {
     "end_time": "2019-05-16T07:32:07.596855Z",
     "start_time": "2019-05-16T07:32:05.943436Z"
    }
   },
   "outputs": [
    {
     "name": "stderr",
     "output_type": "stream",
     "text": [
      "/Users/tylerursuy/miniconda3/lib/python3.7/site-packages/IPython/core/display.py:689: UserWarning:\n",
      "\n",
      "Consider using IPython.display.IFrame instead\n",
      "\n"
     ]
    },
    {
     "data": {
      "text/html": [
       "<iframe id=\"igraph\" scrolling=\"no\" style=\"border:none;\" seamless=\"seamless\" src=\"https://plot.ly/~tylerursuy/21.embed\" height=\"525px\" width=\"100%\"></iframe>"
      ],
      "text/plain": [
       "<plotly.tools.PlotlyDisplay object>"
      ]
     },
     "execution_count": 15,
     "metadata": {},
     "output_type": "execute_result"
    }
   ],
   "source": [
    "py.iplot(dict(data=trace, layout=layout), filename='GoalComparison')"
   ]
  },
  {
   "cell_type": "code",
   "execution_count": 15,
   "metadata": {
    "ExecuteTime": {
     "end_time": "2019-05-14T04:03:42.752298Z",
     "start_time": "2019-05-14T04:03:42.667307Z"
    }
   },
   "outputs": [
    {
     "data": {
      "application/vnd.plotly.v1+json": {
       "config": {
        "linkText": "Export to plot.ly",
        "plotlyServerURL": "https://plot.ly",
        "showLink": true
       },
       "data": [
        {
         "hoverinfo": "text",
         "marker": {
          "color": "Green",
          "size": [
           34.237679419025696,
           17.769336928223957,
           13.966610165238235,
           23.733054843014095,
           38.60674203230342,
           17.769336928223957,
           21.71360948035253,
           13.966610165238235,
           19.725021954206706,
           38.60674203230342,
           63.99999999999999,
           47.59134846789696,
           19.725021954206706,
           10.330412131161864,
           10.330412131161864,
           12.125732532083184,
           43.059938302761715,
           17.769336928223957,
           8.585814486631532,
           15.848931924611133
          ]
         },
         "mode": "markers",
         "text": [
          "Team: Arsenal<br>Wins: 19<br>First Half: 30<br>Second Half: 44",
          "Team: Bournemouth<br>Wins: 11<br>First Half: 17<br>Second Half: 28",
          "Team: Brighton<br>Wins: 9<br>First Half: 16<br>Second Half: 18",
          "Team: Burnley<br>Wins: 14<br>First Half: 16<br>Second Half: 20",
          "Team: Chelsea<br>Wins: 21<br>First Half: 30<br>Second Half: 32",
          "Team: Crystal Palace<br>Wins: 11<br>First Half: 18<br>Second Half: 27",
          "Team: Everton<br>Wins: 13<br>First Half: 15<br>Second Half: 29",
          "Team: Huddersfield<br>Wins: 9<br>First Half: 15<br>Second Half: 13",
          "Team: Leicester<br>Wins: 12<br>First Half: 26<br>Second Half: 30",
          "Team: Liverpool<br>Wins: 21<br>First Half: 35<br>Second Half: 49",
          "Team: Man City<br>Wins: 32<br>First Half: 45<br>Second Half: 61",
          "Team: Man United<br>Wins: 25<br>First Half: 29<br>Second Half: 39",
          "Team: Newcastle<br>Wins: 12<br>First Half: 16<br>Second Half: 23",
          "Team: Southampton<br>Wins: 7<br>First Half: 16<br>Second Half: 21",
          "Team: Stoke<br>Wins: 7<br>First Half: 17<br>Second Half: 18",
          "Team: Swansea<br>Wins: 8<br>First Half: 10<br>Second Half: 18",
          "Team: Tottenham<br>Wins: 23<br>First Half: 27<br>Second Half: 47",
          "Team: Watford<br>Wins: 11<br>First Half: 17<br>Second Half: 27",
          "Team: West Brom<br>Wins: 6<br>First Half: 12<br>Second Half: 19",
          "Team: West Ham<br>Wins: 10<br>First Half: 20<br>Second Half: 28"
         ],
         "type": "scatter",
         "uid": "b05c325d-401b-40f3-8d8b-c1eaa4a97848",
         "x": [
          29.105263157894736,
          17.263157894736842,
          15.31578947368421,
          16.684210526315788,
          29.94736842105263,
          18.36842105263158,
          15.052631578947368,
          16,
          25.842105263157894,
          35.1578947368421,
          45.473684210526315,
          28.210526315789473,
          15.631578947368421,
          15.736842105263158,
          17.789473684210527,
          9.526315789473685,
          27.894736842105264,
          17.57894736842105,
          11,
          19.42105263157895
         ],
         "y": [
          44,
          28,
          18,
          20,
          32,
          27,
          29,
          13,
          30,
          49,
          61,
          39,
          23,
          21,
          18,
          18,
          47,
          27,
          19,
          28
         ]
        }
       ],
       "layout": {
        "title": "Second Half Goals vs Wins for 2018 Season",
        "xaxis": {
         "title": "First Half Goals"
        },
        "yaxis": {
         "title": "Second Half Goals"
        }
       }
      },
      "text/html": [
       "<div id=\"8ff33d4f-e4d4-47ac-abfa-c01e23c9ec4a\" style=\"height: 525px; width: 100%;\" class=\"plotly-graph-div\"></div><script type=\"text/javascript\">require([\"plotly\"], function(Plotly) { window.PLOTLYENV=window.PLOTLYENV || {};window.PLOTLYENV.BASE_URL=\"https://plot.ly\";Plotly.newPlot(\"8ff33d4f-e4d4-47ac-abfa-c01e23c9ec4a\", [{\"hoverinfo\": \"text\", \"marker\": {\"color\": \"Green\", \"size\": [34.237679419025696, 17.769336928223957, 13.966610165238235, 23.733054843014095, 38.60674203230342, 17.769336928223957, 21.71360948035253, 13.966610165238235, 19.725021954206706, 38.60674203230342, 63.99999999999999, 47.59134846789696, 19.725021954206706, 10.330412131161864, 10.330412131161864, 12.125732532083184, 43.059938302761715, 17.769336928223957, 8.585814486631532, 15.848931924611133]}, \"mode\": \"markers\", \"text\": [\"Team: Arsenal<br>Wins: 19<br>First Half: 30<br>Second Half: 44\", \"Team: Bournemouth<br>Wins: 11<br>First Half: 17<br>Second Half: 28\", \"Team: Brighton<br>Wins: 9<br>First Half: 16<br>Second Half: 18\", \"Team: Burnley<br>Wins: 14<br>First Half: 16<br>Second Half: 20\", \"Team: Chelsea<br>Wins: 21<br>First Half: 30<br>Second Half: 32\", \"Team: Crystal Palace<br>Wins: 11<br>First Half: 18<br>Second Half: 27\", \"Team: Everton<br>Wins: 13<br>First Half: 15<br>Second Half: 29\", \"Team: Huddersfield<br>Wins: 9<br>First Half: 15<br>Second Half: 13\", \"Team: Leicester<br>Wins: 12<br>First Half: 26<br>Second Half: 30\", \"Team: Liverpool<br>Wins: 21<br>First Half: 35<br>Second Half: 49\", \"Team: Man City<br>Wins: 32<br>First Half: 45<br>Second Half: 61\", \"Team: Man United<br>Wins: 25<br>First Half: 29<br>Second Half: 39\", \"Team: Newcastle<br>Wins: 12<br>First Half: 16<br>Second Half: 23\", \"Team: Southampton<br>Wins: 7<br>First Half: 16<br>Second Half: 21\", \"Team: Stoke<br>Wins: 7<br>First Half: 17<br>Second Half: 18\", \"Team: Swansea<br>Wins: 8<br>First Half: 10<br>Second Half: 18\", \"Team: Tottenham<br>Wins: 23<br>First Half: 27<br>Second Half: 47\", \"Team: Watford<br>Wins: 11<br>First Half: 17<br>Second Half: 27\", \"Team: West Brom<br>Wins: 6<br>First Half: 12<br>Second Half: 19\", \"Team: West Ham<br>Wins: 10<br>First Half: 20<br>Second Half: 28\"], \"x\": [29.105263157894736, 17.263157894736842, 15.31578947368421, 16.684210526315788, 29.94736842105263, 18.36842105263158, 15.052631578947368, 16.0, 25.842105263157894, 35.1578947368421, 45.473684210526315, 28.210526315789473, 15.631578947368421, 15.736842105263158, 17.789473684210527, 9.526315789473685, 27.894736842105264, 17.57894736842105, 11.0, 19.42105263157895], \"y\": [44, 28, 18, 20, 32, 27, 29, 13, 30, 49, 61, 39, 23, 21, 18, 18, 47, 27, 19, 28], \"type\": \"scatter\", \"uid\": \"0cf17d56-23cd-4e07-a4d0-8e775cd7bf30\"}], {\"title\": \"Second Half Goals vs Wins for 2018 Season\", \"xaxis\": {\"title\": \"First Half Goals\"}, \"yaxis\": {\"title\": \"Second Half Goals\"}}, {\"showLink\": true, \"linkText\": \"Export to plot.ly\", \"plotlyServerURL\": \"https://plot.ly\"})});</script><script type=\"text/javascript\">window.addEventListener(\"resize\", function(){window._Plotly.Plots.resize(document.getElementById(\"8ff33d4f-e4d4-47ac-abfa-c01e23c9ec4a\"));});</script>"
      ],
      "text/vnd.plotly.v1+html": [
       "<div id=\"8ff33d4f-e4d4-47ac-abfa-c01e23c9ec4a\" style=\"height: 525px; width: 100%;\" class=\"plotly-graph-div\"></div><script type=\"text/javascript\">require([\"plotly\"], function(Plotly) { window.PLOTLYENV=window.PLOTLYENV || {};window.PLOTLYENV.BASE_URL=\"https://plot.ly\";Plotly.newPlot(\"8ff33d4f-e4d4-47ac-abfa-c01e23c9ec4a\", [{\"hoverinfo\": \"text\", \"marker\": {\"color\": \"Green\", \"size\": [34.237679419025696, 17.769336928223957, 13.966610165238235, 23.733054843014095, 38.60674203230342, 17.769336928223957, 21.71360948035253, 13.966610165238235, 19.725021954206706, 38.60674203230342, 63.99999999999999, 47.59134846789696, 19.725021954206706, 10.330412131161864, 10.330412131161864, 12.125732532083184, 43.059938302761715, 17.769336928223957, 8.585814486631532, 15.848931924611133]}, \"mode\": \"markers\", \"text\": [\"Team: Arsenal<br>Wins: 19<br>First Half: 30<br>Second Half: 44\", \"Team: Bournemouth<br>Wins: 11<br>First Half: 17<br>Second Half: 28\", \"Team: Brighton<br>Wins: 9<br>First Half: 16<br>Second Half: 18\", \"Team: Burnley<br>Wins: 14<br>First Half: 16<br>Second Half: 20\", \"Team: Chelsea<br>Wins: 21<br>First Half: 30<br>Second Half: 32\", \"Team: Crystal Palace<br>Wins: 11<br>First Half: 18<br>Second Half: 27\", \"Team: Everton<br>Wins: 13<br>First Half: 15<br>Second Half: 29\", \"Team: Huddersfield<br>Wins: 9<br>First Half: 15<br>Second Half: 13\", \"Team: Leicester<br>Wins: 12<br>First Half: 26<br>Second Half: 30\", \"Team: Liverpool<br>Wins: 21<br>First Half: 35<br>Second Half: 49\", \"Team: Man City<br>Wins: 32<br>First Half: 45<br>Second Half: 61\", \"Team: Man United<br>Wins: 25<br>First Half: 29<br>Second Half: 39\", \"Team: Newcastle<br>Wins: 12<br>First Half: 16<br>Second Half: 23\", \"Team: Southampton<br>Wins: 7<br>First Half: 16<br>Second Half: 21\", \"Team: Stoke<br>Wins: 7<br>First Half: 17<br>Second Half: 18\", \"Team: Swansea<br>Wins: 8<br>First Half: 10<br>Second Half: 18\", \"Team: Tottenham<br>Wins: 23<br>First Half: 27<br>Second Half: 47\", \"Team: Watford<br>Wins: 11<br>First Half: 17<br>Second Half: 27\", \"Team: West Brom<br>Wins: 6<br>First Half: 12<br>Second Half: 19\", \"Team: West Ham<br>Wins: 10<br>First Half: 20<br>Second Half: 28\"], \"x\": [29.105263157894736, 17.263157894736842, 15.31578947368421, 16.684210526315788, 29.94736842105263, 18.36842105263158, 15.052631578947368, 16.0, 25.842105263157894, 35.1578947368421, 45.473684210526315, 28.210526315789473, 15.631578947368421, 15.736842105263158, 17.789473684210527, 9.526315789473685, 27.894736842105264, 17.57894736842105, 11.0, 19.42105263157895], \"y\": [44, 28, 18, 20, 32, 27, 29, 13, 30, 49, 61, 39, 23, 21, 18, 18, 47, 27, 19, 28], \"type\": \"scatter\", \"uid\": \"0cf17d56-23cd-4e07-a4d0-8e775cd7bf30\"}], {\"title\": \"Second Half Goals vs Wins for 2018 Season\", \"xaxis\": {\"title\": \"First Half Goals\"}, \"yaxis\": {\"title\": \"Second Half Goals\"}}, {\"showLink\": true, \"linkText\": \"Export to plot.ly\", \"plotlyServerURL\": \"https://plot.ly\"})});</script><script type=\"text/javascript\">window.addEventListener(\"resize\", function(){window._Plotly.Plots.resize(document.getElementById(\"8ff33d4f-e4d4-47ac-abfa-c01e23c9ec4a\"));});</script>"
      ]
     },
     "metadata": {},
     "output_type": "display_data"
    }
   ],
   "source": [
    "iplot(dict(data=trace, layout=layout))"
   ]
  },
  {
   "cell_type": "markdown",
   "metadata": {},
   "source": [
    "# Discussion\n",
    "\n",
    "The scatter plot above shows the relationship between total first half goals, second half goals, and wins in the 2017/18 Premier League season. The axes correspond to each half and the size of the point reflects the number of wins the team earned in the year. As we would expect, the teams with more goals in both halves won more games; however, we do see in some cases that teams won more games but did not score as many goals as other teams. For example, Man United had the second most wins this year (25), but were outscored in either dimension by four teams that finished with less wins. We can conclude that Man United played more defensive this year, scoring less goals but also conceding less goals, and winning more as a result. A similar situation can be seen in Burnley's performance. On the other hand, Liverpool scored more goals in the first and second half but only had 21 wins, so we can assume that Liverpool probably conceded more goals and either lost or tied games because of it. Thus, we can tease out the attitudes some teams approached games with using this logic. "
   ]
  },
  {
   "cell_type": "code",
   "execution_count": null,
   "metadata": {},
   "outputs": [],
   "source": []
  }
 ],
 "metadata": {
  "kernelspec": {
   "display_name": "Python 3",
   "language": "python",
   "name": "python3"
  },
  "language_info": {
   "codemirror_mode": {
    "name": "ipython",
    "version": 3
   },
   "file_extension": ".py",
   "mimetype": "text/x-python",
   "name": "python",
   "nbconvert_exporter": "python",
   "pygments_lexer": "ipython3",
   "version": "3.7.1"
  },
  "varInspector": {
   "cols": {
    "lenName": 16,
    "lenType": 16,
    "lenVar": 40
   },
   "kernels_config": {
    "python": {
     "delete_cmd_postfix": "",
     "delete_cmd_prefix": "del ",
     "library": "var_list.py",
     "varRefreshCmd": "print(var_dic_list())"
    },
    "r": {
     "delete_cmd_postfix": ") ",
     "delete_cmd_prefix": "rm(",
     "library": "var_list.r",
     "varRefreshCmd": "cat(var_dic_list()) "
    }
   },
   "position": {
    "height": "144px",
    "left": "1069px",
    "right": "20px",
    "top": "120px",
    "width": "350px"
   },
   "types_to_exclude": [
    "module",
    "function",
    "builtin_function_or_method",
    "instance",
    "_Feature"
   ],
   "window_display": false
  }
 },
 "nbformat": 4,
 "nbformat_minor": 2
}
